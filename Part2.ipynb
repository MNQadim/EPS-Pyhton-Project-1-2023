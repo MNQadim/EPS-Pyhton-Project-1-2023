{
 "cells": [
  {
   "cell_type": "markdown",
   "id": "d1079427-e4cd-472d-8449-d3d68be1c2f1",
   "metadata": {},
   "source": [
    "<h1 style=\"font-size:3rem;color:green;\">part2 </h1>"
   ]
  },
  {
   "cell_type": "markdown",
   "id": "d08ff1a7-b0be-4b72-8a9b-a79ec9ccfd01",
   "metadata": {},
   "source": [
    "## The time, in minutes, that a car is parked in a mall has the following\n",
    "## density function:"
   ]
  },
  {
   "attachments": {},
   "cell_type": "markdown",
   "id": "5e33e7ec-9609-441b-8997-fd011c0308a4",
   "metadata": {},
   "source": [
    "$$\r\n",
    "f(x) =\r\n",
    "\\begin{cases}\r\n",
    "\\frac{1}{50e^{-x/50}} & \\text{if } x > 0 \\\\\r\n",
    "0 & \\text{if } x \\leq 0\r\n",
    "\\end{cases}\r\n",
    "$$ases}"
   ]
  },
  {
   "cell_type": "markdown",
   "id": "5d2be49c-2cbd-4c8f-a225-cddc53bbe506",
   "metadata": {},
   "source": [
    "# A)"
   ]
  },
  {
   "cell_type": "markdown",
   "id": "d419452d-0806-4903-9eaf-e9cc09ba43e9",
   "metadata": {},
   "source": [
    "### Find the probability that a car stays more than 1 hour"
   ]
  },
  {
   "cell_type": "code",
   "execution_count": 1,
   "id": "71751329-209d-41b6-a5b6-e84036537abd",
   "metadata": {},
   "outputs": [
    {
     "name": "stdout",
     "output_type": "stream",
     "text": [
      "probability 60 is: 0.3011942119122021\n"
     ]
    }
   ],
   "source": [
    "import numpy as np\n",
    "import scipy.integrate as spi\n",
    "\n",
    "def fx(x):\n",
    "    return (1/50)*(np.exp(-x/50))\n",
    "\n",
    "a = 60  \n",
    "result, _ = spi.quad(fx, 0, a)\n",
    "print(\"probability\", a, \"is:\", 1 - result)"
   ]
  },
  {
   "cell_type": "markdown",
   "id": "9fc40386-302a-4e0c-85e9-286cc97bf6c4",
   "metadata": {},
   "source": [
    "# B)"
   ]
  },
  {
   "cell_type": "markdown",
   "id": "8421ad60-daf9-4797-b4d7-0c6a1658f62d",
   "metadata": {},
   "source": [
    "### Let Y = 0.5+0.03X be the cost in dollars that the mall has to pay a security service per parked car. Find the mean parking cost for 1000 cars using python.\r\n",
    "3."
   ]
  },
  {
   "cell_type": "code",
   "execution_count": null,
   "id": "999d311b-baa1-4c39-a7fe-ae59ee364f11",
   "metadata": {},
   "outputs": [],
   "source": [
    "import numpy as np\n",
    "import scipy.integrate as spi\n",
    "\n",
    "def fx(x):\n",
    "    return (1/50)*(np.exp(-x/50))\n",
    "\n",
    "result, _ = spi.quad(lambda x: x*fx(x), 0, np.inf)\n",
    "\n",
    "result = 0.5 + 0.03*result\n",
    "result =1000 * result\n",
    "\n",
    "print(\"Cost is:\", result)"
   ]
  }
 ],
 "metadata": {
  "kernelspec": {
   "display_name": "Python 3 (ipykernel)",
   "language": "python",
   "name": "python3"
  },
  "language_info": {
   "codemirror_mode": {
    "name": "ipython",
    "version": 3
   },
   "file_extension": ".py",
   "mimetype": "text/x-python",
   "name": "python",
   "nbconvert_exporter": "python",
   "pygments_lexer": "ipython3",
   "version": "3.12.0"
  }
 },
 "nbformat": 4,
 "nbformat_minor": 5
}
